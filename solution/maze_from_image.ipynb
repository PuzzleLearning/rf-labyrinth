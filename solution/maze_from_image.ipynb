{
 "cells": [
  {
   "cell_type": "code",
   "execution_count": 1,
   "id": "548f4831-f7a9-42e6-92dc-08ce33ee0490",
   "metadata": {},
   "outputs": [],
   "source": [
    "import cv2\n",
    "import numpy as np"
   ]
  },
  {
   "cell_type": "code",
   "execution_count": 46,
   "id": "751fc3a0-c4f4-4047-a496-f0cf6ff1756f",
   "metadata": {},
   "outputs": [],
   "source": [
    "from tqdm import tqdm"
   ]
  },
  {
   "cell_type": "code",
   "execution_count": 22,
   "id": "b86b6922-c943-4a3a-9302-d49a060b76ed",
   "metadata": {},
   "outputs": [],
   "source": [
    "# Load the image of the labyrinth\n",
    "img = cv2.imread(\"df_maze.png\")"
   ]
  },
  {
   "cell_type": "code",
   "execution_count": 23,
   "id": "3ab67bc2-72dc-4ac2-92ee-920145b080ec",
   "metadata": {},
   "outputs": [],
   "source": [
    "# Convert the image to grayscale\n",
    "gray = cv2.cvtColor(img, cv2.COLOR_BGR2GRAY)"
   ]
  },
  {
   "cell_type": "code",
   "execution_count": 24,
   "id": "bf2e8c2e-0dfb-4201-974f-363b7712dd0f",
   "metadata": {},
   "outputs": [],
   "source": [
    "# Threshold the image to binary\n",
    "_, binary = cv2.threshold(gray, 128, 255, cv2.THRESH_BINARY)"
   ]
  },
  {
   "cell_type": "code",
   "execution_count": 25,
   "id": "78ba0d92-d4d5-49c5-9d39-77637dbdf4ab",
   "metadata": {},
   "outputs": [
    {
     "data": {
      "text/plain": [
       "array([[0, 0, 0, ..., 0, 0, 0],\n",
       "       [0, 0, 0, ..., 0, 0, 0],\n",
       "       [0, 0, 0, ..., 0, 0, 0],\n",
       "       ...,\n",
       "       [0, 0, 0, ..., 0, 0, 0],\n",
       "       [0, 0, 0, ..., 0, 0, 0],\n",
       "       [0, 0, 0, ..., 0, 0, 0]], dtype=uint8)"
      ]
     },
     "execution_count": 25,
     "metadata": {},
     "output_type": "execute_result"
    }
   ],
   "source": [
    "binary"
   ]
  },
  {
   "cell_type": "code",
   "execution_count": 26,
   "id": "9cd9e071-5c57-4386-85ea-deb6b83dd1eb",
   "metadata": {},
   "outputs": [
    {
     "data": {
      "text/plain": [
       "(504, 504)"
      ]
     },
     "execution_count": 26,
     "metadata": {},
     "output_type": "execute_result"
    }
   ],
   "source": [
    "len(binary), len(binary[0])"
   ]
  },
  {
   "cell_type": "code",
   "execution_count": 33,
   "id": "565a24b8-dd34-40e5-aa6d-d3180e4dfaa4",
   "metadata": {},
   "outputs": [],
   "source": [
    "# Find the start and goal coordinates\n",
    "start = None\n",
    "for y in range(binary.shape[0]):\n",
    "    for x in range(binary.shape[1]):\n",
    "        if binary[y, x] == 255:\n",
    "            if start is None:\n",
    "                start = (y, x)\n",
    "                break"
   ]
  },
  {
   "cell_type": "code",
   "execution_count": 35,
   "id": "f1776af1-62d3-4b7d-bc0b-929dcee3ccbf",
   "metadata": {},
   "outputs": [],
   "source": [
    "end = None\n",
    "for y in reversed(range(binary.shape[0])):\n",
    "    for x in reversed(range(binary.shape[1])):\n",
    "        if binary[y, x] == 255:\n",
    "            if end is None:\n",
    "                end = (y, x)\n",
    "                break"
   ]
  },
  {
   "cell_type": "code",
   "execution_count": 50,
   "id": "b28f852d-ba49-4e21-9b05-621a39cecb19",
   "metadata": {},
   "outputs": [
    {
     "data": {
      "text/plain": [
       "((5, 5), (498, 498))"
      ]
     },
     "execution_count": 50,
     "metadata": {},
     "output_type": "execute_result"
    }
   ],
   "source": [
    "start, end"
   ]
  },
  {
   "cell_type": "code",
   "execution_count": 51,
   "id": "0c9be3d8-f4f1-495b-b7fb-c3f222872b49",
   "metadata": {},
   "outputs": [],
   "source": [
    "goal = end"
   ]
  },
  {
   "cell_type": "code",
   "execution_count": 52,
   "id": "18624fdd-58ed-436d-8eb6-48b4001d7c5d",
   "metadata": {},
   "outputs": [],
   "source": [
    "# Define the possible actions\n",
    "actions = [\"up\", \"down\", \"left\", \"right\"]\n",
    "\n",
    "# Define the Q-table\n",
    "q_table = np.zeros((binary.shape[0], binary.shape[1], len(actions)))\n",
    "\n",
    "# Define the learning rate\n",
    "alpha = 0.8\n",
    "\n",
    "# Define the discount factor\n",
    "gamma = 0.95\n",
    "\n",
    "# Define the exploration rate\n",
    "epsilon = 0.1\n",
    "\n",
    "# Define the maximum number of episodes\n",
    "# episodes = 10000\n",
    "episodes = 100"
   ]
  },
  {
   "cell_type": "code",
   "execution_count": 53,
   "id": "3d4683b1-a2c7-4fd8-bd32-1c0fc89c6f5b",
   "metadata": {},
   "outputs": [
    {
     "name": "stderr",
     "output_type": "stream",
     "text": [
      "100%|█████████████████████████████████████████████████████████████████████████████████████████████████████| 100/100 [24:52<00:00, 14.92s/it]\n"
     ]
    }
   ],
   "source": [
    "# Train the Q-learning algorithm\n",
    "for episode in tqdm(range(episodes)):\n",
    "    # Set the initial state\n",
    "    state = start\n",
    "\n",
    "    # Loop until the agent reaches the goal\n",
    "    while (abs(state[0]) < len(binary[0])) and (abs(state[1]) < len(binary[1])):\n",
    "        # Select the action with the highest Q-value\n",
    "        if np.random.uniform(0, 1) < epsilon:\n",
    "            action = np.random.choice(actions)\n",
    "        else:\n",
    "            action = actions[np.argmax(q_table[state[0], state[1]])]\n",
    "\n",
    "        # Take the action and observe the new state and reward\n",
    "        if action == \"up\":\n",
    "            new_state = (state[0] - 1, state[1])\n",
    "            reward = -1 if binary[new_state[0], new_state[1]] == 0 else 0\n",
    "        elif action == \"down\":\n",
    "            new_state = (state[0] + 1, state[1])\n",
    "            reward = -1 if binary[new_state[0], new_state[1]] == 0 else 0 \n",
    "        elif action == \"left\": \n",
    "            new_state = (state[0], state[1] - 1)\n",
    "            reward = -1 if binary[new_state[0], new_state[1]] == 0 else 0 \n",
    "        elif action == \"right\": \n",
    "            new_state = (state[0], state[1] + 1)\n",
    "            reward = -1 if binary[new_state[0], new_state[1]] == 0 else 0\n",
    "    \n",
    "        # Update the Q-value\n",
    "        q_table[state[0], state[1], actions.index(action)] = q_table[state[0], state[1], actions.index(action)] + alpha * (reward + gamma * np.max(q_table[new_state[0], new_state[1]]) - q_table[state[0], state[1], actions.index(action)])\n",
    "\n",
    "        # Update the state\n",
    "        state = new_state\n",
    "\n",
    "        # Check if the goal is reached\n",
    "        if state == goal:\n",
    "            break"
   ]
  },
  {
   "cell_type": "code",
   "execution_count": 54,
   "id": "38f4cb4d-3fdf-4b3a-bcdd-3fc2da9bbd17",
   "metadata": {},
   "outputs": [
    {
     "data": {
      "text/plain": [
       "(-504, 87)"
      ]
     },
     "execution_count": 54,
     "metadata": {},
     "output_type": "execute_result"
    }
   ],
   "source": [
    "state"
   ]
  },
  {
   "cell_type": "code",
   "execution_count": 55,
   "id": "8d1bcb2d-c187-4564-a48c-816dd3b30dfc",
   "metadata": {},
   "outputs": [
    {
     "name": "stdout",
     "output_type": "stream",
     "text": [
      "[[[-1.7216     -2.30528    -2.30528    -2.7731968 ]\n",
      "  [-2.8051968  -2.9823488  -2.30528    -2.7731968 ]\n",
      "  [-2.33728    -2.30528    -2.3296     -2.8704768 ]\n",
      "  ...\n",
      "  [-1.7216     -1.6896     -1.568      -2.27328   ]\n",
      "  [-1.7216     -2.8412928  -2.30528    -2.3296    ]\n",
      "  [-1.7216     -2.30528    -2.397696   -2.397696  ]]\n",
      "\n",
      " [[-2.336      -2.397696   -1.8432     -2.35392   ]\n",
      "  [-2.9024768  -3.0115328  -2.30528    -2.6564608 ]\n",
      "  [-2.336      -2.30528    -2.18368    -2.9628928 ]\n",
      "  ...\n",
      "  [-1.6        -2.30528    -2.30528    -2.27328   ]\n",
      "  [-2.404096   -2.30528    -2.30528    -2.8899328 ]\n",
      "  [-2.18368    -2.30528    -2.30528    -2.538752  ]]\n",
      "\n",
      " [[-2.428416   -2.30528    -2.3296     -2.884096  ]\n",
      "  [-3.0143488  -3.14459136 -2.569472   -2.9191168 ]\n",
      "  [-2.31168    -2.30528    -2.9887488  -2.88896   ]\n",
      "  ...\n",
      "  [-2.31168    -2.30528    -2.30528    -2.35392   ]\n",
      "  [-2.8100608  -2.30528    -2.30528    -1.568     ]\n",
      "  [-1.6        -2.30528    -2.30528    -2.15168   ]]\n",
      "\n",
      " ...\n",
      "\n",
      " [[-2.18368    -2.397696   -1.568      -2.15168   ]\n",
      "  [-2.31168    -2.15168    -2.30528    -2.3296    ]\n",
      "  [-2.19008    -1.6896     -2.30528    -2.30528   ]\n",
      "  ...\n",
      "  [-0.96       -0.8        -0.8        -0.8       ]\n",
      "  [-0.96       -0.96       -0.8        -0.8       ]\n",
      "  [-1.568      -1.6896     -1.568      -2.15168   ]]\n",
      "\n",
      " [[-2.18368    -2.3296     -2.30528    -2.3296    ]\n",
      "  [-2.336      -2.660352   -1.8432     -2.397696  ]\n",
      "  [-2.31168    -2.8899328  -2.30528    -2.15168   ]\n",
      "  ...\n",
      "  [-1.568      -1.568      -0.8        -0.8       ]\n",
      "  [-1.568      -1.568      -1.568      -2.03008   ]\n",
      "  [-2.06208    -2.30528    -1.568      -2.27328   ]]\n",
      "\n",
      " [[-2.31168    -2.15168    -1.7216     -2.6564608 ]\n",
      "  [-2.478336   -2.611712   -2.36032    -2.446336  ]\n",
      "  [-2.31168    -2.397696   -3.0179328  -2.640896  ]\n",
      "  ...\n",
      "  [-0.96       -1.568      -1.568      -1.6896    ]\n",
      "  [-1.6        -2.30528    -1.568      -2.15168   ]\n",
      "  [-1.6        -2.30528    -2.30528    -2.15168   ]]]\n"
     ]
    }
   ],
   "source": [
    "# Print the Q-table\n",
    "print(q_table)"
   ]
  },
  {
   "cell_type": "code",
   "execution_count": null,
   "id": "7433745d-31d8-4c7d-9e9a-0b6672032ddc",
   "metadata": {},
   "outputs": [],
   "source": []
  }
 ],
 "metadata": {
  "kernelspec": {
   "display_name": "Python 3 (ipykernel)",
   "language": "python",
   "name": "python3"
  },
  "language_info": {
   "codemirror_mode": {
    "name": "ipython",
    "version": 3
   },
   "file_extension": ".py",
   "mimetype": "text/x-python",
   "name": "python",
   "nbconvert_exporter": "python",
   "pygments_lexer": "ipython3",
   "version": "3.9.12"
  }
 },
 "nbformat": 4,
 "nbformat_minor": 5
}
